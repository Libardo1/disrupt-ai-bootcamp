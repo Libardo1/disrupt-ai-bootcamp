{
 "cells": [
  {
   "cell_type": "markdown",
   "metadata": {},
   "source": [
    "### First program"
   ]
  },
  {
   "cell_type": "code",
   "execution_count": 2,
   "metadata": {},
   "outputs": [
    {
     "name": "stdout",
     "output_type": "stream",
     "text": [
      "hello world\n"
     ]
    }
   ],
   "source": [
    "print('hello' + ' world')"
   ]
  },
  {
   "cell_type": "code",
   "execution_count": 3,
   "metadata": {},
   "outputs": [
    {
     "name": "stdout",
     "output_type": "stream",
     "text": [
      "hi some name\n"
     ]
    }
   ],
   "source": [
    "print('hi ' + 'some name')"
   ]
  },
  {
   "cell_type": "markdown",
   "metadata": {},
   "source": [
    "### String formating in Python\n",
    "\n",
    "Offical Python Docs for referance to full functionality: https://docs.python.org/3.1/library/stdtypes.html#str.format"
   ]
  },
  {
   "cell_type": "code",
   "execution_count": 8,
   "metadata": {},
   "outputs": [
    {
     "name": "stdout",
     "output_type": "stream",
     "text": [
      "Hi my name is Akil and i am 21 years old and i enjoy fighting in MMA.\n"
     ]
    }
   ],
   "source": [
    "name = 'Akil'\n",
    "age = 21\n",
    "hobby = 'MMA'\n",
    "print('Hi my name is {} and i am {} years old and i enjoy fighting in {}.'.format(name, age, hobby))"
   ]
  },
  {
   "cell_type": "code",
   "execution_count": 12,
   "metadata": {},
   "outputs": [
    {
     "name": "stdout",
     "output_type": "stream",
     "text": [
      "the skies is blue\n"
     ]
    }
   ],
   "source": [
    "color = 'blue'\n",
    "thing = 'skies'\n",
    "print('the {} is {}'.format(thing, color))"
   ]
  },
  {
   "cell_type": "markdown",
   "metadata": {},
   "source": [
    "#### New in Python 3.6+\n",
    "Personally I like this way better since it is concise however not intuitive unless you understand how the formating strings work."
   ]
  },
  {
   "cell_type": "code",
   "execution_count": 13,
   "metadata": {},
   "outputs": [
    {
     "name": "stdout",
     "output_type": "stream",
     "text": [
      "Tomorrow will also have blue skies\n"
     ]
    }
   ],
   "source": [
    "print(f'Tomorrow will also have {color} {thing}')"
   ]
  }
 ],
 "metadata": {
  "kernelspec": {
   "display_name": "Python 3",
   "language": "python",
   "name": "python3"
  },
  "language_info": {
   "codemirror_mode": {
    "name": "ipython",
    "version": 3
   },
   "file_extension": ".py",
   "mimetype": "text/x-python",
   "name": "python",
   "nbconvert_exporter": "python",
   "pygments_lexer": "ipython3",
   "version": "3.6.4"
  }
 },
 "nbformat": 4,
 "nbformat_minor": 2
}
