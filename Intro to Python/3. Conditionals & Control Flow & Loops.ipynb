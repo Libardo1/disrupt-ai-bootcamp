{
 "cells": [
  {
   "cell_type": "markdown",
   "metadata": {},
   "source": [
    "# Control Flow Statements"
   ]
  },
  {
   "cell_type": "markdown",
   "metadata": {},
   "source": [
    "A program’s control flow is the order in which the program’s code executes. "
   ]
  },
  {
   "cell_type": "markdown",
   "metadata": {},
   "source": [
    "### Conditionals"
   ]
  },
  {
   "cell_type": "code",
   "execution_count": 21,
   "metadata": {},
   "outputs": [
    {
     "name": "stdout",
     "output_type": "stream",
     "text": [
      "big a is truthy\n",
      "End of program\n"
     ]
    }
   ],
   "source": [
    "A = True\n",
    "\n",
    "if A is True:\n",
    "    print('big a is truthy')\n",
    "else:\n",
    "    print('big a is falsey')\n",
    "print('End of program')"
   ]
  },
  {
   "cell_type": "code",
   "execution_count": 22,
   "metadata": {},
   "outputs": [
    {
     "name": "stdout",
     "output_type": "stream",
     "text": [
      "x is equal to y\n",
      "End of program\n"
     ]
    }
   ],
   "source": [
    "x = 4\n",
    "y = 4\n",
    "\n",
    "if x > y:\n",
    "    print('x is greater than y')\n",
    "elif x < y:\n",
    "    print('x is less than y')\n",
    "elif x == y:\n",
    "    print('x is equal to y')\n",
    "print('End of program')"
   ]
  },
  {
   "cell_type": "markdown",
   "metadata": {},
   "source": [
    "## Loops"
   ]
  },
  {
   "cell_type": "code",
   "execution_count": 23,
   "metadata": {},
   "outputs": [
    {
     "name": "stdout",
     "output_type": "stream",
     "text": [
      "1 is small number\n",
      "2 is small number\n",
      "3 is small number\n",
      "4 is small number\n",
      "5 is small number\n",
      "6 is BIG number\n",
      "7 is BIG number\n",
      "8 is BIG number\n",
      "9 is BIG number\n",
      "10 is BIG number\n",
      "Program finished!\n"
     ]
    }
   ],
   "source": [
    "# loop over a list of numbers.\n",
    "numbers = [1,2,3,4,5,6,7,8,9,10]\n",
    "\n",
    "for i in numbers:\n",
    "    if i <= 5:\n",
    "        print('{} is small number'.format(i))\n",
    "    elif i >= 6:\n",
    "        print('{} is BIG number'.format(i))\n",
    "print('Program finished!')"
   ]
  },
  {
   "cell_type": "markdown",
   "metadata": {},
   "source": [
    "In machine learning when writing yor own training pipline you might find it useful to use the built in Python range function."
   ]
  },
  {
   "cell_type": "markdown",
   "metadata": {},
   "source": [
    "Offical Python Docs for referance to full functionality: https://docs.python.org/3/library/stdtypes.html#ranges"
   ]
  },
  {
   "cell_type": "code",
   "execution_count": 24,
   "metadata": {},
   "outputs": [
    {
     "name": "stdout",
     "output_type": "stream",
     "text": [
      "Ecochs: 0\n",
      "Ecochs: 1\n",
      "Ecochs: 2\n",
      "Ecochs: 3\n",
      "Ecochs: 4\n"
     ]
    }
   ],
   "source": [
    "# range(stop)\n",
    "for i in range(5):\n",
    "    print('Ecochs: {}'.format(i))\n"
   ]
  },
  {
   "cell_type": "markdown",
   "metadata": {},
   "source": [
    "### Even and Odd numbers"
   ]
  },
  {
   "cell_type": "code",
   "execution_count": 25,
   "metadata": {},
   "outputs": [
    {
     "name": "stdout",
     "output_type": "stream",
     "text": [
      "1 is odd\n",
      "2 is even\n",
      "3 is odd\n",
      "4 is even\n",
      "5 is odd\n",
      "6 is even\n",
      "7 is odd\n",
      "8 is even\n",
      "9 is odd\n",
      "10 is even\n",
      "Program finished!\n"
     ]
    }
   ],
   "source": [
    "for i in numbers:\n",
    "    if i % 2 == 0:\n",
    "        print('{} is even'.format(i))\n",
    "    else:\n",
    "        print('{} is odd'.format(i))\n",
    "print('Program finished!')"
   ]
  }
 ],
 "metadata": {
  "kernelspec": {
   "display_name": "Python 3",
   "language": "python",
   "name": "python3"
  },
  "language_info": {
   "codemirror_mode": {
    "name": "ipython",
    "version": 3
   },
   "file_extension": ".py",
   "mimetype": "text/x-python",
   "name": "python",
   "nbconvert_exporter": "python",
   "pygments_lexer": "ipython3",
   "version": "3.6.4"
  }
 },
 "nbformat": 4,
 "nbformat_minor": 2
}
